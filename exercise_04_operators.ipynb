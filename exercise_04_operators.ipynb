{
 "cells": [
  {
   "cell_type": "markdown",
   "id": "f4f06454",
   "metadata": {},
   "source": [
    "# 04 - Operators\n",
    "\n",
    "This notebook is a serie of exercises about the concept presented in [04 Operators](TODO) and made by [Hakim Achterberg](mailto:h.achterberg@erasmusmc.nl).\n",
    "\n",
    "- Those exercises are not mendatory but it is strongly adviced to do them as programming is skill learnt by doing\n",
    "- Exercise have an associated difficulty level: 1 means that only an understanding of the course is sufficient to complete the exercise, 2 means that some research is needed to complete the exercise\n",
    "\n",
    "There are some comments in the solutions giving some additional information, do not forget to read them.\n",
    "\n",
    "## Exercise 1: [Testing Operators] (level of difficulty: 1)\n",
    "\n",
    "Operators work on the data around them. For the operators `+`, `*`, `**`, `/`, `//`, try to see what the result is with integer inputs and float inputs. Also check the type of result using the `type()` function. \n",
    "\n",
    "1. Use 2 and 4 to see what happens when two integers are used\n",
    "2. Use 2 and 0.5 for to see what happens when an integer and a float is used.\n",
    "\n",
    "Feel free to try different values and types to test if you understand how the operators function."
   ]
  },
  {
   "cell_type": "code",
   "execution_count": null,
   "id": "b2218b62",
   "metadata": {},
   "outputs": [
    {
     "name": "stdout",
     "output_type": "stream",
     "text": [
      "value: 6, type: <class 'int'>\n",
      "value: 8, type: <class 'int'>\n",
      "value: 16, type: <class 'int'>\n",
      "value: 0.5, type: <class 'float'>\n",
      "value: 0, type: <class 'int'>\n"
     ]
    }
   ],
   "source": [
    "# Solution block 1.1\n",
    "a1 = 2\n",
    "a2 = 4\n",
    "my_tuple = (a1+a2, a1*a2, a1**a2, a1/a2, a1//a2)\n",
    "\n",
    "for i in my_tuple:\n",
    "    print(f\"value: {i}, type: {type(i)}\")"
   ]
  },
  {
   "cell_type": "code",
   "execution_count": 3,
   "id": "c68085fb",
   "metadata": {
    "lines_to_next_cell": 2
   },
   "outputs": [
    {
     "name": "stdout",
     "output_type": "stream",
     "text": [
      "value: 2.5, type: <class 'float'>\n",
      "value: 1.0, type: <class 'float'>\n",
      "value: 1.4142135623730951, type: <class 'float'>\n",
      "value: 4.0, type: <class 'float'>\n",
      "value: 4.0, type: <class 'float'>\n"
     ]
    }
   ],
   "source": [
    "# Solution block 2.1\n",
    "a1 = 2\n",
    "a2 = 0.5\n",
    "my_tuple = (a1+a2, a1*a2, a1**a2, a1/a2, a1//a2)\n",
    "\n",
    "for i in my_tuple:\n",
    "    print(f\"value: {i}, type: {type(i)}\")"
   ]
  },
  {
   "cell_type": "markdown",
   "id": "0e03cdb6",
   "metadata": {},
   "source": [
    "## Exercise 2: [Chained comparisons] (level of difficulty: 1)\n",
    "\n",
    "Chaining comparison operators is something which Python allows. So if you want to test if x is large than 5 and smaller than 10, you can write `5 < x < 10`. This is very similar to mathematical notation.\n",
    "1. in Python the following is also valid: `3 < x == y < 10 < z`, what do you think this code does?\n",
    "2. Is `3 < x > 4` valid? What will this do? And would it make sense to use this?"
   ]
  },
  {
   "cell_type": "code",
   "execution_count": 9,
   "id": "486266b3",
   "metadata": {},
   "outputs": [
    {
     "name": "stdout",
     "output_type": "stream",
     "text": [
      "true\n"
     ]
    }
   ],
   "source": [
    "# Solution block 2.1\n",
    "if 3 < 4 == 4 < 10 < 12:\n",
    "    print(\"true\")\n",
    "else:\n",
    "    print(\"false\")\n",
    "\n",
    "# Geen idee hoe dit werkt"
   ]
  },
  {
   "cell_type": "code",
   "execution_count": 13,
   "id": "f742569d",
   "metadata": {},
   "outputs": [
    {
     "name": "stdout",
     "output_type": "stream",
     "text": [
      "true\n"
     ]
    }
   ],
   "source": [
    "# Solution block 2.2\n",
    "if 3 < 8 > 4:\n",
    "    print(\"true\")\n",
    "else:\n",
    "    print(\"false\")\n",
    "\n",
    "# Geen idee waarom je dit zou gebruiken"
   ]
  },
  {
   "cell_type": "markdown",
   "id": "44faa1ea",
   "metadata": {},
   "source": [
    "## Exercise 3: [Boolean conversion] (level of difficulty: 1)\n",
    "\n",
    "Booleans are an interesing thing in Python and used for every `if` or `while` statement (will be part of `06 - control structure lecture`). It is useful to get more of an idea of how boolean work and how booleans are converted to number or other variables are converted to a boolean.\n",
    "\n",
    "Try the following:\n",
    "1. Convert the following values to a boolean: `1`, `0`, `5`, `-1`, `3.14`, `0.0`, `[]`, `[1, 2, 3]`\n",
    "2. Convert True and False to an `int` and a `float`"
   ]
  },
  {
   "cell_type": "code",
   "execution_count": 15,
   "id": "9f78fdd2",
   "metadata": {},
   "outputs": [
    {
     "name": "stdout",
     "output_type": "stream",
     "text": [
      "value: 1, boolean value: True\n",
      "value: 0, boolean value: False\n",
      "value: 5, boolean value: True\n",
      "value: -1, boolean value: True\n",
      "value: 3.14, boolean value: True\n",
      "value: 0.0, boolean value: False\n",
      "value: [], boolean value: False\n",
      "value: [1, 2, 3], boolean value: True\n"
     ]
    }
   ],
   "source": [
    "# Solution block 3.1\n",
    "my_tuple = (1, 0, 5, -1, 3.14, 0.0, [], [1,2,3])\n",
    "\n",
    "for i in my_tuple:\n",
    "    print(f\"value: {i}, boolean value: {bool(i)}\")"
   ]
  },
  {
   "cell_type": "code",
   "execution_count": 16,
   "id": "5357612c",
   "metadata": {
    "lines_to_next_cell": 0
   },
   "outputs": [
    {
     "name": "stdout",
     "output_type": "stream",
     "text": [
      "1\n",
      "0\n",
      "1.0\n",
      "0.0\n"
     ]
    }
   ],
   "source": [
    "# Solution block 3.2\n",
    "print(int(True))\n",
    "print(int(False))\n",
    "print(float(True))\n",
    "print(float(False))"
   ]
  },
  {
   "cell_type": "markdown",
   "id": "878989fc",
   "metadata": {},
   "source": []
  }
 ],
 "metadata": {
  "kernelspec": {
   "display_name": "base",
   "language": "python",
   "name": "python3"
  },
  "language_info": {
   "codemirror_mode": {
    "name": "ipython",
    "version": 3
   },
   "file_extension": ".py",
   "mimetype": "text/x-python",
   "name": "python",
   "nbconvert_exporter": "python",
   "pygments_lexer": "ipython3",
   "version": "3.8.8"
  },
  "vscode": {
   "interpreter": {
    "hash": "af0757bbd091a27d1b459aad72cb64fd0f2b1eac8726eb2184f3794de23b07aa"
   }
  }
 },
 "nbformat": 4,
 "nbformat_minor": 5
}
