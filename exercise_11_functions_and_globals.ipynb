{
 "cells": [
  {
   "cell_type": "markdown",
   "id": "162941cd",
   "metadata": {},
   "source": [
    "# 11 - Function and Globals\n",
    "\n",
    "This notebook is a serie of exercises about the concept presented in [11 Function and Globals](TODO) and made by [Hakim Achterberg](mailto:h.achterberg@erasmusmc.nl)."
   ]
  },
  {
   "cell_type": "markdown",
   "id": "d35d844c",
   "metadata": {},
   "source": [
    "- Those exercises are not mendatory but it is strongly adviced to do them as programming is skill learnt by doing\n",
    "- Exercise have an associated difficulty level: 1 means that only an understanding of the course is sufficient to complete the exercise, 2 means that some research is needed to complete the exercise"
   ]
  },
  {
   "cell_type": "markdown",
   "id": "30ac545a",
   "metadata": {},
   "source": [
    "## Exercise 1: Minkowski distance (level of difficulty: 1)\n",
    "\n",
    "The Minkowski distance is a generalisation of the Eucledian and Manhattan distance. It computes the distances between two points in an $N$ dimensional points. It has one parameter $p$ which controls the how the two dimensions interact.  For $p = 2$ the Minkowski is the same as the Eucledian distances. For $p = 1$ it is the same as the Manhattan distance.\n",
    "\n",
    "From Wikipedia:\n",
    "\n",
    "The Minkowski distance of order ${\\displaystyle p}$ (where ${\\displaystyle p}$ is an integer) between two points \n",
    "\n",
    "$$X = (x_1,x_2,\\ldots,x_n) \\text{ and } Y = (y_1,y_2,\\ldots,y_n) \\in \\mathbb{R}^n$$\n",
    "\n",
    "is defined as:\n",
    "$$D\\left(X,Y\\right) = \\left(\\sum_{i=1}^n |x_i-y_i|^p\\right)^{\\frac{1}{p}}.$$\n",
    "\n",
    "1. Calculate the Minkowski distance on two points with $p = 2$\n",
    "2. Make a functions for the Minkowski distance and test it with a few values, make the value for p optional and default it to $2$, test it with the default $p$ and with $p=1$\n",
    "3. **Advanced: requires you to look up knowledge not in the lectures** We want to change the function so if only one point is given, by default it calculates the distance to the origin. To make sure the argumnets `point2` and `p` are not accidentally mixed up, define the function so that `point1` and `point2` only can be given as a positional argument, and `p` can only be given as a keyword argument. "
   ]
  },
  {
   "cell_type": "code",
   "execution_count": 26,
   "id": "615207b5",
   "metadata": {},
   "outputs": [
    {
     "name": "stdout",
     "output_type": "stream",
     "text": [
      "1.4142135623730951\n"
     ]
    }
   ],
   "source": [
    "# Solution block 1.1\n",
    "\n",
    "# Simple test variables to check if it works\n",
    "point1 = (2, 2)\n",
    "point2 = (3, 3)\n",
    "p = 2\n",
    "\n",
    "# Calculate the Minkowski distance\n",
    "distance = ((abs(point1[0] - point2[0])**p) + (abs(point1[1] - point2[1])**p))**(1/p)\n",
    "print(distance)"
   ]
  },
  {
   "cell_type": "code",
   "execution_count": 1,
   "id": "101584d2",
   "metadata": {},
   "outputs": [
    {
     "name": "stdout",
     "output_type": "stream",
     "text": [
      "1.4142135623730951\n",
      "2.0\n"
     ]
    }
   ],
   "source": [
    "# Solution block 1.2\n",
    "def minkowski_distance(point1, point2, p=2):\n",
    "    distance = ((abs(point1[0] - point2[0])**p) + (abs(point1[1] - point2[1])**p))**(1/p)\n",
    "    return distance\n",
    "\n",
    "print(minkowski_distance((2,2), (3,3)))\n",
    "print(minkowski_distance((2,2), (3,3), 1))"
   ]
  },
  {
   "cell_type": "code",
   "execution_count": 46,
   "id": "9e3b7659",
   "metadata": {},
   "outputs": [
    {
     "name": "stdout",
     "output_type": "stream",
     "text": [
      "1.4142135623730951\n",
      "0.0\n",
      "2.0\n"
     ]
    }
   ],
   "source": [
    "# Solution block 1.3\n",
    "# The argument / indidates that all argumnets before a positional ONLY, and the * indicates \n",
    "# that all arguments after are keyword ONLY\n",
    "\n",
    "# Geen idee wat ze willen, maar gewoon een default waarde toevoegen voor point1 en point2 lost dit al op\n",
    "def minkowski_distance(point1=(0,0), point2=(0,0), p=2):\n",
    "    distance = ((abs(point1[0] - point2[0])**p) + (abs(point1[1] - point2[1])**p))**(1/p)\n",
    "    return distance\n",
    "\n",
    "print(minkowski_distance((1,1)))\n",
    "print(minkowski_distance())\n",
    "print(minkowski_distance((1,1), p=1))"
   ]
  },
  {
   "cell_type": "code",
   "execution_count": 43,
   "id": "f5fe4878",
   "metadata": {},
   "outputs": [
    {
     "name": "stdout",
     "output_type": "stream",
     "text": [
      "2.0\n"
     ]
    }
   ],
   "source": [
    "print(minkowski_distance((2,2), (3,3), 1))"
   ]
  },
  {
   "cell_type": "code",
   "execution_count": 44,
   "id": "c781eb47",
   "metadata": {},
   "outputs": [
    {
     "name": "stdout",
     "output_type": "stream",
     "text": [
      "2.0\n"
     ]
    }
   ],
   "source": [
    "print(minkowski_distance(point1=(2,2), point2=(3,3), p=1))"
   ]
  },
  {
   "cell_type": "markdown",
   "id": "044a04cf",
   "metadata": {},
   "source": [
    "## Exercise 2: Dangerous Default (level of difficulty: 2)\n",
    "\n",
    "For a program we want to work with colour values. These are defined as three\n",
    "numbers between 0.0 and 1.0 to indicate the amount of red, green, and blue\n",
    "to use respectively. As we need some named colours in the application, we want\n",
    "to create a lookup map. For this we use a dictionary where the key is the name\n",
    "and the value is a colour value. Because we are afraid that users of the function\n",
    "may make mistakes we make\n",
    "a function to add a colour to the lookup that carefully validates if the inputs\n",
    "are valid. If no current lookup is given we start out with a simple dictionary\n",
    "containing the three primary colours."
   ]
  },
  {
   "cell_type": "code",
   "execution_count": 2,
   "id": "d24074dd",
   "metadata": {},
   "outputs": [],
   "source": [
    "def add_to_colour_lookup(colour_name, colour_value, current_lookup={'red': (1.0, 0.0, 0.0), 'green': (0.0, 1.0, 0.0), 'blue': (0.0, 0.0, 1.0)}):\n",
    "    if not isinstance(colour_name, str):\n",
    "        raise TypeError('Colour name should be a string!')\n",
    "\n",
    "    if not isinstance(colour_value, tuple):\n",
    "        raise TypeError('Colour value should be a value!')\n",
    "\n",
    "    if len(colour_value) != 3 or any(not isinstance(x, float) for x in colour_value):\n",
    "        raise TypeError('Colour value should contain 3 floats!')\n",
    "\n",
    "    if any(not 0.0 <= x <= 1.0 for x in colour_value):\n",
    "        raise ValueError('Colour value entries should be between 0 and 1!')\n",
    "\n",
    "    current_lookup[colour_name] = colour_value\n",
    "    return current_lookup"
   ]
  },
  {
   "cell_type": "markdown",
   "id": "53648c5c",
   "metadata": {},
   "source": [
    "1. Call this function to add some new colours, you can add the following:\n",
    "   - Add white: (1.0, 1.0, 1.0) without a current lookup\n",
    "   - Add black: (0.0, 0.0, 0.0) to the previous result\n",
    "   - Add gray: (0.5, 0.5, 0.5) to the previous result\n",
    "   - Add cyan: (0.0, 1.0, 1.0) without a current lookup\n",
    "   - Add magenta: (1.0, 0.0, 1.0) with an empty dict as current lookup\n",
    "\n",
    "   Print the results of each step, something strange has happened, what went wrong?\n"
   ]
  },
  {
   "cell_type": "code",
   "execution_count": 3,
   "id": "89e434ad",
   "metadata": {},
   "outputs": [
    {
     "name": "stdout",
     "output_type": "stream",
     "text": [
      "{'red': (1.0, 0.0, 0.0), 'green': (0.0, 1.0, 0.0), 'blue': (0.0, 0.0, 1.0), 'white': (1.0, 1.0, 1.0)}\n",
      "{'red': (1.0, 0.0, 0.0), 'green': (0.0, 1.0, 0.0), 'blue': (0.0, 0.0, 1.0), 'white': (1.0, 1.0, 1.0), 'black': (0.0, 0.0, 0.0)}\n",
      "{'red': (1.0, 0.0, 0.0), 'green': (0.0, 1.0, 0.0), 'blue': (0.0, 0.0, 1.0), 'white': (1.0, 1.0, 1.0), 'black': (0.0, 0.0, 0.0), 'grey': (0.5, 0.5, 0.5)}\n",
      "{'red': (1.0, 0.0, 0.0), 'green': (0.0, 1.0, 0.0), 'blue': (0.0, 0.0, 1.0), 'white': (1.0, 1.0, 1.0), 'black': (0.0, 0.0, 0.0), 'grey': (0.5, 0.5, 0.5), 'cyan': (0.0, 1.0, 1.0)}\n",
      "{'magenta': (1.0, 0.0, 1.0)}\n"
     ]
    }
   ],
   "source": [
    "lookup1 = add_to_colour_lookup(\"white\", (1.0, 1.0, 1.0))\n",
    "print(lookup1)\n",
    "\n",
    "lookup1 = add_to_colour_lookup(\"black\", (0.0, 0.0, 0.0), lookup1)\n",
    "print(lookup1)\n",
    "\n",
    "lookup1 = add_to_colour_lookup(\"grey\", (0.5, 0.5, 0.5), lookup1)\n",
    "print(lookup1)\n",
    "\n",
    "print(add_to_colour_lookup(\"cyan\", (0.0, 1.0, 1.0)))\n",
    "\n",
    "empty_dict = add_to_colour_lookup(\"magenta\", (1.0, 0.0, 1.0), {})\n",
    "print(empty_dict)"
   ]
  },
  {
   "cell_type": "markdown",
   "id": "4b06ec7d",
   "metadata": {},
   "source": [
    "We would expect lookup4 to contain just red, green, blue and cyan. However all previously added entries are present. This is because we modified our default argument inside the function!"
   ]
  },
  {
   "cell_type": "markdown",
   "id": "2e449212",
   "metadata": {},
   "source": [
    "2. Fix the problem by adapting the function definition and implementation (if you didn't identify it, use the result of previous answer as a hint). Test your solution by running the same steps as in the previous question"
   ]
  },
  {
   "cell_type": "code",
   "execution_count": 1,
   "id": "ef891f41",
   "metadata": {},
   "outputs": [
    {
     "name": "stdout",
     "output_type": "stream",
     "text": [
      "{'red': (1.0, 0.0, 0.0), 'green': (0.0, 1.0, 0.0), 'blue': (0.0, 0.0, 1.0), 'white': (1.0, 1.0, 1.0)}\n",
      "{'red': (1.0, 0.0, 0.0), 'green': (0.0, 1.0, 0.0), 'blue': (0.0, 0.0, 1.0), 'white': (1.0, 1.0, 1.0), 'black': (0.0, 0.0, 0.0)}\n",
      "{'red': (1.0, 0.0, 0.0), 'green': (0.0, 1.0, 0.0), 'blue': (0.0, 0.0, 1.0), 'white': (1.0, 1.0, 1.0), 'black': (0.0, 0.0, 0.0), 'grey': (0.5, 0.5, 0.5)}\n",
      "{'red': (1.0, 0.0, 0.0), 'green': (0.0, 1.0, 0.0), 'blue': (0.0, 0.0, 1.0), 'cyan': (0.0, 1.0, 1.0)}\n",
      "{'magenta': (1.0, 0.0, 1.0)}\n"
     ]
    }
   ],
   "source": [
    "# del add_to_colour_lookup, lookup1, empty_dict\n",
    "\n",
    "def add_to_colour_lookup(colour_name, \n",
    "                         colour_value, \n",
    "                         current_lookup={'red': (1.0, 0.0, 0.0), 'green': (0.0, 1.0, 0.0), 'blue': (0.0, 0.0, 1.0)}):\n",
    "    if not isinstance(colour_name, str):\n",
    "        raise TypeError('Colour name should be a string!')\n",
    "\n",
    "    if not isinstance(colour_value, tuple):\n",
    "        raise TypeError('Colour value should be a value!')\n",
    "\n",
    "    if len(colour_value) != 3 or any(not isinstance(x, float) for x in colour_value):\n",
    "        raise TypeError('Colour value should contain 3 floats!')\n",
    "\n",
    "    if any(not 0.0 <= x <= 1.0 for x in colour_value):\n",
    "        raise ValueError('Colour value entries should be between 0 and 1!')\n",
    "    \n",
    "    # Kopieer current_lookup naar een andere variabele zodat current_lookup niet steeds verandert\n",
    "    return_lookup = current_lookup.copy()\n",
    "    return_lookup[colour_name] = colour_value\n",
    "    return return_lookup\n",
    "\n",
    "lookup1 = add_to_colour_lookup(\"white\", (1.0, 1.0, 1.0))\n",
    "print(lookup1)\n",
    "\n",
    "lookup1 = add_to_colour_lookup(\"black\", (0.0, 0.0, 0.0), lookup1)\n",
    "print(lookup1)\n",
    "\n",
    "lookup1 = add_to_colour_lookup(\"grey\", (0.5, 0.5, 0.5), lookup1)\n",
    "print(lookup1)\n",
    "\n",
    "print(add_to_colour_lookup(\"cyan\", (0.0, 1.0, 1.0)))\n",
    "\n",
    "empty_dict = add_to_colour_lookup(\"magenta\", (1.0, 0.0, 1.0), {})\n",
    "print(empty_dict)"
   ]
  }
 ],
 "metadata": {
  "jupytext": {
   "cell_markers": "\"\"\""
  },
  "kernelspec": {
   "display_name": "base",
   "language": "python",
   "name": "python3"
  },
  "language_info": {
   "codemirror_mode": {
    "name": "ipython",
    "version": 3
   },
   "file_extension": ".py",
   "mimetype": "text/x-python",
   "name": "python",
   "nbconvert_exporter": "python",
   "pygments_lexer": "ipython3",
   "version": "3.8.8"
  },
  "vscode": {
   "interpreter": {
    "hash": "af0757bbd091a27d1b459aad72cb64fd0f2b1eac8726eb2184f3794de23b07aa"
   }
  }
 },
 "nbformat": 4,
 "nbformat_minor": 5
}
