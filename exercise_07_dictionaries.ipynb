{
 "cells": [
  {
   "cell_type": "markdown",
   "id": "e9440c5d",
   "metadata": {},
   "source": [
    "# 07 - Dictionaries\n",
    "\n",
    "This notebook is a serie of exercises about the concept presented in [07 Dictionaries](TODO) and made by [Theo van Walsum](mailto:t.vanwalsum@erasmusmc.nl) and [Robin Camarasa](mailto:r.camarasa@erasmusmc.nl).\n",
    "\n",
    "- Those exercises are not mendatory but it is strongly adviced to do them as programming is skill learnt by doing\n",
    "- Exercise have an associated difficulty level: 1 means that only an understanding of the course is sufficient to complete the exercise, 2 means that some research is needed to complete the exercise"
   ]
  },
  {
   "cell_type": "markdown",
   "id": "af6ed4e0",
   "metadata": {
    "tags": []
   },
   "source": [
    "## Adding and removing elements\n",
    "\n",
    "In the dictionary defined below. Write code to add an element (your favorit comic pair), and to remove an element.\n"
   ]
  },
  {
   "cell_type": "code",
   "execution_count": 3,
   "id": "68e56e53",
   "metadata": {},
   "outputs": [
    {
     "name": "stdout",
     "output_type": "stream",
     "text": [
      "{'Suske': 'Wiske', 'Asterix': 'Obelix', 'Lucky Luke': 'Jolly Jumper', 'Donald': 'Duck'}\n",
      "{'Suske': 'Wiske', 'Asterix': 'Obelix', 'Lucky Luke': 'Jolly Jumper'}\n"
     ]
    }
   ],
   "source": [
    "comic_pairs = { \"Suske\": \"Wiske\", \"Asterix\": \"Obelix\", \"Lucky Luke\": \"Jolly Jumper\"}\n",
    "\n",
    "# add a pair:\n",
    "comic_pairs[\"Donald\"] = \"Duck\"\n",
    "print(comic_pairs)\n",
    "\n",
    "# remove a pair\n",
    "del comic_pairs[\"Donald\"]\n",
    "print(comic_pairs)"
   ]
  },
  {
   "cell_type": "markdown",
   "id": "cd26609a",
   "metadata": {
    "jupyter": {
     "source_hidden": true
    },
    "tags": []
   },
   "source": [
    "## Printing a dictionary sorted on keys\n",
    "\n",
    "Print a dictionary (e.g. such as the one above) as follows:\n",
    "\n",
    "    Asterix: Obelix\n",
    "    Lucky Luke: Jolly Jumper\n",
    "    Suske: Wiske\n",
    "    \n",
    "Thus each key-value pair on a line, and in a sorted order."
   ]
  },
  {
   "cell_type": "code",
   "execution_count": 5,
   "id": "bcdb85f8",
   "metadata": {},
   "outputs": [
    {
     "name": "stdout",
     "output_type": "stream",
     "text": [
      "Asterix: Obelix\n",
      "Lucky Luke: Jolly Jumper\n",
      "Suske: Wiske\n"
     ]
    }
   ],
   "source": [
    "comic_pairs = { \"Suske\": \"Wiske\", \"Asterix\": \"Obelix\", \"Lucky Luke\": \"Jolly Jumper\"}\n",
    "for i in sorted(comic_pairs):\n",
    "    print(f\"{i}: {comic_pairs[i]}\")"
   ]
  },
  {
   "cell_type": "markdown",
   "id": "b1589d6f",
   "metadata": {
    "lines_to_next_cell": 0
   },
   "source": [
    "## Printing a dictionary sorted on values\n",
    "\n",
    "Print a dictionary as above, but with the value first (and key last), sorted on the values.\n",
    "\n",
    "    Jolly Jumper: Lucky Luke\n",
    "    Obelix: Asterix\n",
    "    Wiske: Suske\n",
    "    \n"
   ]
  },
  {
   "cell_type": "code",
   "execution_count": 7,
   "id": "abca848f",
   "metadata": {},
   "outputs": [
    {
     "name": "stdout",
     "output_type": "stream",
     "text": [
      "Jolly Jumper: Lucky Luke\n",
      "Obelix: Asterix\n",
      "Wiske: Suske\n"
     ]
    }
   ],
   "source": [
    "comic_pairs = { \"Suske\": \"Wiske\", \"Asterix\": \"Obelix\", \"Lucky Luke\": \"Jolly Jumper\"}\n",
    "\n",
    "# print pair in sorted order of the values\n",
    "# Dictionary omdraaien en dan hetzelfde als hierboven\n",
    "# Dit is beetje valsspelen, kan vast anders\n",
    "comic_pairs2 = {y: x for x, y in comic_pairs.items()}\n",
    "for i in sorted(comic_pairs2):\n",
    "    print(f\"{i}: {comic_pairs2[i]}\")"
   ]
  },
  {
   "cell_type": "markdown",
   "id": "4c092339",
   "metadata": {},
   "source": [
    "## Testing on presence of key\n",
    "\n",
    "Sometimes, you need to test whether a key is present in a dictionary. How can you test whether a dictionary is present? Complete below code:"
   ]
  },
  {
   "cell_type": "code",
   "execution_count": 12,
   "id": "9350b203",
   "metadata": {},
   "outputs": [
    {
     "name": "stdout",
     "output_type": "stream",
     "text": [
      "Key Donald Duck is not present\n"
     ]
    }
   ],
   "source": [
    "comic_pairs = { \"Suske\": \"Wiske\", \"Asterix\": \"Obelix\", \"Lucky Luke\": \"Jolly Jumper\"}\n",
    "\n",
    "key = \"Donald Duck\"\n",
    "if key in comic_pairs:\n",
    "   print(f\"Value for {key} is {comic_pairs['Donald Duck']}\")\n",
    "    \n",
    "else:\n",
    "    print(f\"Key {key} is not present\")"
   ]
  },
  {
   "cell_type": "markdown",
   "id": "7663b18a",
   "metadata": {},
   "source": [
    "## Looking in the dictionary\n",
    "\n",
    "The idea of the python dictionary is directly inspired from the dictionary of the real world. In this exercise we make a link between\n",
    "numerical and the physical dictionary.\n",
    "\n",
    "In the attic of his grand-parents, Pip found a dusty book called \"Français -> Née landaus\".\n",
    "Pip is quite excited because this summer he goes with his friend in Paris and unfortunately he forgot most of his french since he entered university.\n",
    "Hopefully for Pip, this days he speaks better Python than French; and in no time he was able to make an algorithm that transforms pictures of the dictionnary into a Python Dictionary with the french words and their translation.\n",
    "However Pip is stuck, he can't remember how use a Python dictionary.\n",
    "\n",
    "a. Help Pip to find the dutch word that corresponds to \"viande\" in french."
   ]
  },
  {
   "cell_type": "code",
   "execution_count": 15,
   "id": "ae2101a7",
   "metadata": {},
   "outputs": [
    {
     "name": "stdout",
     "output_type": "stream",
     "text": [
      "vlees\n"
     ]
    }
   ],
   "source": [
    "french_to_dutch = {\n",
    "    \"biciclette\": \"fiets\", \n",
    "    \"fromage\": \"kaas\", \n",
    "    \"bonjour\": \"hallo\",\n",
    "    \"viande\": \"vlees\",\n",
    "    \"temps\": \"tijd\",\n",
    "    \"mer\": \"zee\",\n",
    "}\n",
    "# Ez\n",
    "print(french_to_dutch[\"viande\"])"
   ]
  },
  {
   "cell_type": "markdown",
   "id": "763701a5",
   "metadata": {},
   "source": [
    "b. Help Pip to find the french word that corresponds to \"kaas\" in dutch."
   ]
  },
  {
   "cell_type": "code",
   "execution_count": 31,
   "id": "4e19d80f",
   "metadata": {},
   "outputs": [
    {
     "name": "stdout",
     "output_type": "stream",
     "text": [
      "fromage\n"
     ]
    }
   ],
   "source": [
    "french_to_dutch = {\n",
    "    \"biciclette\": \"fiets\",\n",
    "    \"bonjour\": \"hallo\",\n",
    "    \"viande\": \"vlees\",\n",
    "    \"temps\": \"tijd\",\n",
    "    \"mer\": \"zee\",\n",
    "    \"fromage\": \"kaas\", \n",
    "}\n",
    "# Kijk waar de waarde gelijk is aan 'kaas'\n",
    "for val in french_to_dutch:\n",
    "    if french_to_dutch[val] == \"kaas\":\n",
    "        print(val)\n"
   ]
  },
  {
   "cell_type": "markdown",
   "id": "c06b7d6f",
   "metadata": {},
   "source": [
    "c. It is quite clear that finding a dutch word when you know a french one is easier than finding a french word when you know a dutch one. It is not really helpful for Pip that is a native dutch speaker that knows almost no french word. Help Pip to create a dutch to french dictionary from the french to dutch."
   ]
  },
  {
   "cell_type": "code",
   "execution_count": 27,
   "id": "c6300740",
   "metadata": {},
   "outputs": [
    {
     "name": "stdout",
     "output_type": "stream",
     "text": [
      "{'fiets': 'biciclette', 'kaas': 'fromage', 'hallo': 'bonjour', 'vlees': 'viande', 'tijd': 'temps', 'zee': 'mer'}\n"
     ]
    }
   ],
   "source": [
    "french_to_dutch = {\n",
    "    \"biciclette\": \"fiets\", \n",
    "    \"fromage\": \"kaas\", \n",
    "    \"bonjour\": \"hallo\",\n",
    "    \"viande\": \"vlees\",\n",
    "    \"temps\": \"tijd\",\n",
    "    \"mer\": \"zee\",\n",
    "}\n",
    "# Dictionary omdraaien\n",
    "dutch_to_french = {y: x for x, y in french_to_dutch.items()}\n",
    "print(dutch_to_french)"
   ]
  },
  {
   "cell_type": "code",
   "execution_count": null,
   "id": "2277c151",
   "metadata": {},
   "outputs": [],
   "source": []
  }
 ],
 "metadata": {
  "jupytext": {
   "cell_markers": "\"\"\""
  },
  "kernelspec": {
   "display_name": "Python 3",
   "language": "python",
   "name": "python3"
  },
  "language_info": {
   "codemirror_mode": {
    "name": "ipython",
    "version": 3
   },
   "file_extension": ".py",
   "mimetype": "text/x-python",
   "name": "python",
   "nbconvert_exporter": "python",
   "pygments_lexer": "ipython3",
   "version": "3.8.8"
  }
 },
 "nbformat": 4,
 "nbformat_minor": 5
}
