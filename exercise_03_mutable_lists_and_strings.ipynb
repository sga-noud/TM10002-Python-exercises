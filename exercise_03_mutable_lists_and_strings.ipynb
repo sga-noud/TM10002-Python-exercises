{
 "cells": [
  {
   "cell_type": "markdown",
   "id": "0ace060d",
   "metadata": {},
   "source": [
    "## 03 - Mutable, Lists and Strings\n",
    "\n",
    "This notebook is a serie of exercises about the concept presented in 03 Mutable, Lists and Strings.\n",
    "\n",
    "Those exercises are not mandatory but it is strongly adviced to do them as programming is skill learnt by doing."
   ]
  },
  {
   "cell_type": "markdown",
   "id": "15528bb6",
   "metadata": {
    "tags": []
   },
   "source": [
    "### Slicing on strings to get substrings\n",
    "\n",
    "Given a string s, with value: \"abc Python def\", use slicing to generate the following strings:\n",
    "\n",
    "- \"a\"\n",
    "- \"abc\"\n",
    "- \"Python\"\n",
    "- \"def\""
   ]
  },
  {
   "cell_type": "code",
   "execution_count": 4,
   "id": "1322fba0",
   "metadata": {},
   "outputs": [
    {
     "name": "stdout",
     "output_type": "stream",
     "text": [
      "a\n",
      "abc\n",
      "Python\n",
      "def\n"
     ]
    }
   ],
   "source": [
    "s = \"abc Python def\"\n",
    "\n",
    "print(s[0:1])  # \"a\"\n",
    "print(s[:3])   # \"abc\"\n",
    "print(s[4:10]) # \"Python\"\n",
    "print(s[-3:])  # \"def\"\n"
   ]
  },
  {
   "cell_type": "markdown",
   "id": "ff9c1399",
   "metadata": {},
   "source": [
    "### Replacement in strings\n",
    "\n",
    "Create a string from string s, that contains: \"abc C++ def\", and give it variable name s2"
   ]
  },
  {
   "cell_type": "code",
   "execution_count": 5,
   "id": "1948b9ec",
   "metadata": {},
   "outputs": [
    {
     "name": "stdout",
     "output_type": "stream",
     "text": [
      "abc C++ def\n"
     ]
    }
   ],
   "source": [
    "s = \"abc Python def\"\n",
    "\n",
    "s2 = s.replace(s[4:10], 'C++')\n",
    "print(s2)"
   ]
  },
  {
   "cell_type": "markdown",
   "id": "9cbde6ae",
   "metadata": {},
   "source": [
    "### Slicing on lists\n",
    "\n",
    "Given a list with values 0 .. 9, use slicing to generate the following lists:\n",
    "\n",
    "- [0, 3, 6, 9]\n",
    "- [1, 5, 9]\n",
    "- [7, 8, 9]\n",
    "- [6, 5, 4, 3]\n",
    "- [7, 5]"
   ]
  },
  {
   "cell_type": "code",
   "execution_count": 7,
   "id": "1ddcb105",
   "metadata": {},
   "outputs": [
    {
     "name": "stdout",
     "output_type": "stream",
     "text": [
      "[0, 3, 6, 9]\n",
      "[1, 5, 9]\n",
      "[7, 8, 9]\n",
      "[6, 5, 4, 3]\n",
      "[7, 5]\n"
     ]
    }
   ],
   "source": [
    "number_list = [0, 1, 2, 3, 4, 5, 6, 7, 8, 9]\n",
    "\n",
    "print(number_list[::3])    # [0, 3, 6, 9]\n",
    "print(number_list[1::4])   # [1, 5, 9]\n",
    "print(number_list[-3:])    # [7, 8, 9]\n",
    "print(number_list[6:2:-1]) # [6, 5, 4, 3]\n",
    "print(number_list[7:4:-2]) # [7, 5]"
   ]
  },
  {
   "cell_type": "markdown",
   "id": "6f024595",
   "metadata": {},
   "source": [
    "### Quotation marks\n",
    "\n",
    "There are three types of string delimiters to be used when creating strings, which is convenient if you want to create a string with one of these quotes. \n",
    "\n",
    "It is also possible to have a string in python that has all string delimiters! Can you create a variable s_quotes that contains all three types of quotes, e.g. (string enclosed by dashes for clearity): ---Python has three types of string delimiters: ', \" and '''--- ?\n",
    "\n",
    "I.e. the below (updated) part should print:\n",
    "\n",
    "Python has three types of string delimiters: ', \" and '''\n",
    "\n",
    "Note that there are many ways to get this done. Could you come up with more than one solution? And which solution would you prefer?"
   ]
  },
  {
   "cell_type": "code",
   "execution_count": 10,
   "id": "11a6937c",
   "metadata": {},
   "outputs": [
    {
     "name": "stdout",
     "output_type": "stream",
     "text": [
      "Python has three types of string delimiters: ', \" and '''\n"
     ]
    }
   ],
   "source": [
    "s_quotes = \"Python has three types of string delimiters: ', \\\" and '''\"\n",
    "print(s_quotes)"
   ]
  },
  {
   "cell_type": "code",
   "execution_count": null,
   "id": "02f0e7b3",
   "metadata": {},
   "outputs": [],
   "source": [
    "# Allerlei oplossingen, maar in dit geval is de \" escapen met \\ het handigst."
   ]
  }
 ],
 "metadata": {
  "jupytext": {
   "cell_markers": "\"\"\""
  },
  "kernelspec": {
   "display_name": "Python 3",
   "language": "python",
   "name": "python3"
  },
  "language_info": {
   "codemirror_mode": {
    "name": "ipython",
    "version": 3
   },
   "file_extension": ".py",
   "mimetype": "text/x-python",
   "name": "python",
   "nbconvert_exporter": "python",
   "pygments_lexer": "ipython3",
   "version": "3.8.8"
  }
 },
 "nbformat": 4,
 "nbformat_minor": 5
}
