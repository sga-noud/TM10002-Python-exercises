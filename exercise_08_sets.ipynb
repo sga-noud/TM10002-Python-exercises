{
 "cells": [
  {
   "cell_type": "markdown",
   "id": "7edf7f66",
   "metadata": {},
   "source": [
    "# 08 - Sets\n",
    "\n",
    "This notebook is a serie of exercises about the concept presented in [08 Sets](TODO) and made by [Robin Camarasa](mailto:r.camarasa@erasmusmc.nl).\n",
    "\n",
    "- Those exercises are not mendatory but it is strongly adviced to do them as programming is skill learnt by doing\n",
    "- Exercise have an associated difficulty level: 1 means that only an understanding of the course is sufficient to complete the exercise, 2 means that some research is needed to complete the exercise"
   ]
  },
  {
   "cell_type": "markdown",
   "id": "e9a7e9ee",
   "metadata": {},
   "source": [
    "## Exercise 1: A problem of socks\n",
    "\n",
    "On his free time, Paul use to volonteer in a charity to help old people with their house work. In duty, Paul arrives at Madam Jansen's house and she is really preoccupied. She found back old socks from her son (Jan) sorted as follow the left socks in a cardbox and the right socks in a wooden box. The two boxes take too much space in her house but she doesn't want to get rid of any type of socks. As a programmer, Paul offers to write a small program to help Madam Jansen decide which socks she want to keep. His first step is to create two lists of socks representing the color of the socks in the cardbox and in the wooden box respectively.\n",
    "\n",
    "1. (level of difficulty: 1) The first option considered by Madam Jansen is to keep one sock of each color regardless of the box. Which set of socks would Madam Jansen then keep?\n",
    "1. (level of difficulty: 1) Paul is puzzled by this organization (why would Jan seperate pair of socks?). He then decide to investigate and realize that there is a label written 'Jan' on the socks in the cardbox and a label written 'Janssen' on the socks in the wooden box. This changes everything for Madam Jansen, she now wants all the different pairs of socks that have written the full name 'Jan', 'Jansen' but don't want duplicates in the colors (e.g. only one pair of 'white' socks).\n",
    "2. (level of difficulty: 2 in addition a refresher on `control structures` and `list` might be needed) Realising the small amount of socks it represents, Madam Jansen doesn't care about duplicated colors and want all the possible pairs labeled 'Jan' 'Jansen'(e.g. multiple pair of 'white' socks)."
   ]
  },
  {
   "cell_type": "code",
   "execution_count": 13,
   "id": "a81205ba",
   "metadata": {},
   "outputs": [
    {
     "name": "stdout",
     "output_type": "stream",
     "text": [
      "{'grey', 'yellow', 'white', 'orange', 'purple', 'green', 'black', 'blue', 'turquoise', 'magenta', 'pink', 'red'}\n"
     ]
    }
   ],
   "source": [
    "# Solution block 1.1\n",
    "cardbox = [\n",
    "    'red', 'pink', 'orange', 'purple', 'green',\n",
    "    'black', 'pink', 'orange', 'orange', 'turquoise',\n",
    "    'black', 'white', 'white', 'purple', 'orange',\n",
    "    'yellow'\n",
    "]\n",
    "\n",
    "wooden_box = [\n",
    "    'red', 'orange', 'blue', 'grey', 'white',\n",
    "    'black', 'red', 'yellow', 'grey', 'white',\n",
    "    'magenta', 'orange', 'blue', 'blue',\n",
    "    'yellow'\n",
    "]\n",
    "\n",
    "# Neem de union (a.k.a. 'OR')\n",
    "unique_socks = set(cardbox) | set(wooden_box)\n",
    "print(unique_socks)"
   ]
  },
  {
   "cell_type": "code",
   "execution_count": 15,
   "id": "41821ac2",
   "metadata": {},
   "outputs": [
    {
     "name": "stdout",
     "output_type": "stream",
     "text": [
      "{'yellow', 'white', 'orange', 'black', 'red'}\n"
     ]
    }
   ],
   "source": [
    "# Solution block 1.2\n",
    "cardbox = [\n",
    "    'red', 'pink', 'orange', 'purple', 'green',\n",
    "    'black', 'pink', 'orange', 'orange', 'turquoise',\n",
    "    'black', 'white', 'white', 'purple', 'orange',\n",
    "    'yellow'\n",
    "]\n",
    "wooden_box = [\n",
    "    'red', 'orange', 'blue', 'grey', 'white',\n",
    "    'black', 'red', 'yellow', 'grey', 'white',\n",
    "    'magenta', 'orange', 'blue', 'blue',\n",
    "    'yellow'\n",
    "]\n",
    "\n",
    "# Neem de intersection (a.k.a. 'AND')\n",
    "jan_jansen_socks = set(cardbox) & set(wooden_box)\n",
    "print(jan_jansen_socks)"
   ]
  },
  {
   "cell_type": "code",
   "execution_count": 1,
   "id": "25c0ec03",
   "metadata": {},
   "outputs": [
    {
     "name": "stdout",
     "output_type": "stream",
     "text": [
      "['red', 'pink', 'orange', 'purple', 'green', 'black', 'pink', 'orange', 'orange', 'turquoise', 'black', 'white', 'white', 'purple', 'orange', 'yellow', 'red', 'orange', 'blue', 'grey', 'white', 'black', 'red', 'yellow', 'grey', 'white', 'magenta', 'orange', 'blue', 'blue', 'yellow']\n"
     ]
    }
   ],
   "source": [
    "# Solution block 1.3\n",
    "cardbox = [\n",
    "    'red', 'pink', 'orange', 'purple', 'green',\n",
    "    'black', 'pink', 'orange', 'orange', 'turquoise',\n",
    "    'black', 'white', 'white', 'purple', 'orange',\n",
    "    'yellow'\n",
    "]\n",
    "wooden_box = [\n",
    "    'red', 'orange', 'blue', 'grey', 'white',\n",
    "    'black', 'red', 'yellow', 'grey', 'white',\n",
    "    'magenta', 'orange', 'blue', 'blue',\n",
    "    'yellow'\n",
    "]\n",
    "\n",
    "for i in wooden_box:\n",
    "    cardbox.append(i)\n",
    "print(cardbox)\n",
    "# Weet niet hoe nu verder moet"
   ]
  }
 ],
 "metadata": {
  "kernelspec": {
   "display_name": "Python 3",
   "language": "python",
   "name": "python3"
  },
  "language_info": {
   "codemirror_mode": {
    "name": "ipython",
    "version": 3
   },
   "file_extension": ".py",
   "mimetype": "text/x-python",
   "name": "python",
   "nbconvert_exporter": "python",
   "pygments_lexer": "ipython3",
   "version": "3.8.8"
  }
 },
 "nbformat": 4,
 "nbformat_minor": 5
}
