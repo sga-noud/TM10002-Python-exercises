{
 "cells": [
  {
   "cell_type": "markdown",
   "id": "d4af414b",
   "metadata": {},
   "source": [
    "## 02 - Basic Data and Variables\n",
    "\n",
    "This notebook is a serie of exercises about the concept presented in 02 Basic Data and Variables and made by Theo van Walsum.\n",
    "\n",
    "Those exercises are not mandatory but it is strongly adviced to do them as programming is skill learnt by doing."
   ]
  },
  {
   "cell_type": "markdown",
   "id": "0769b187",
   "metadata": {
    "tags": []
   },
   "source": [
    "### Operators and types . . .\n",
    "\n",
    "This prepares for one of the next lectures ...\n",
    "\n",
    "Write code that prints the value (and type) of the following expressions:\n",
    "\n",
    "- 3/1\n",
    "- 3/2\n",
    "- 3/3\n",
    "- 3/4\n",
    "- 3.0/1\n",
    "- 3.0/2\n",
    "- 3.0/3\n",
    "- 3.0/4\n",
    "- 3//1\n",
    "- 3//2\n",
    "- 3//3\n",
    "- 3//4\n",
    "- 3.0//1\n",
    "- 3.0//2\n",
    "- 3.0//3\n",
    "- 3.0//4\n",
    "- 3%1\n",
    "- 3%2\n",
    "- 3%3\n",
    "- 3%3\n",
    "\n",
    "What would be the meaning of /, // and % ?"
   ]
  },
  {
   "cell_type": "code",
   "execution_count": 23,
   "id": "9ee4fe11",
   "metadata": {},
   "outputs": [
    {
     "name": "stdout",
     "output_type": "stream",
     "text": [
      "value: 3.0, type: <class 'float'>\n",
      "value: 1.5, type: <class 'float'>\n",
      "value: 1.0, type: <class 'float'>\n",
      "value: 0.75, type: <class 'float'>\n",
      "value: 3.0, type: <class 'float'>\n",
      "value: 1.5, type: <class 'float'>\n",
      "value: 1.0, type: <class 'float'>\n",
      "value: 0.75, type: <class 'float'>\n",
      "value: 3, type: <class 'int'>\n",
      "value: 1, type: <class 'int'>\n",
      "value: 1, type: <class 'int'>\n",
      "value: 0, type: <class 'int'>\n",
      "value: 3.0, type: <class 'float'>\n",
      "value: 1.0, type: <class 'float'>\n",
      "value: 1.0, type: <class 'float'>\n",
      "value: 0.0, type: <class 'float'>\n",
      "value: 0, type: <class 'int'>\n",
      "value: 1, type: <class 'int'>\n",
      "value: 0, type: <class 'int'>\n",
      "value: 3, type: <class 'int'>\n"
     ]
    }
   ],
   "source": [
    "my_tuple = (3/1, 3/2, 3/3, 3/4, 3.0/1, 3.0/2, 3.0/3, 3.0/4, 3//1, 3//2, 3//3, 3//4, 3.0//1, 3.0//2, 3.0//3, 3.0//4, 3%1, 3%2, 3%3, 3%4)\n",
    "\n",
    "for i in my_tuple:\n",
    "    print(f\"value: {i}, type: {type(i)}\")"
   ]
  },
  {
   "cell_type": "code",
   "execution_count": null,
   "id": "fb2d89ac",
   "metadata": {},
   "outputs": [],
   "source": [
    "# Dus: \n",
    "# / is delen door\n",
    "# // is delen door en naar beneden afronden\n",
    "# % is rest"
   ]
  }
 ],
 "metadata": {
  "jupytext": {
   "cell_markers": "\"\"\""
  },
  "kernelspec": {
   "display_name": "Python 3",
   "language": "python",
   "name": "python3"
  },
  "language_info": {
   "codemirror_mode": {
    "name": "ipython",
    "version": 3
   },
   "file_extension": ".py",
   "mimetype": "text/x-python",
   "name": "python",
   "nbconvert_exporter": "python",
   "pygments_lexer": "ipython3",
   "version": "3.8.8"
  }
 },
 "nbformat": 4,
 "nbformat_minor": 5
}
