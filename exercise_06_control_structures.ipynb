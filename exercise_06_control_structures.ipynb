{
 "cells": [
  {
   "cell_type": "markdown",
   "id": "c98a4c6d",
   "metadata": {},
   "source": [
    "# 06 - Control Structures\n",
    "\n",
    "This notebook is a serie of exercises about the concept presented in [06 Control Structures](TODO) and made by [Hakim Achterberg](mailto:h.achterberg@erasmusmc.nl).\n",
    "\n",
    "- Those exercises are not mendatory but it is strongly adviced to do them as programming is skill learnt by doing\n",
    "- Exercise have an associated difficulty level: 1 means that only an understanding of the course is sufficient to complete the exercise, 2 means that some research is needed to complete the exercise"
   ]
  },
  {
   "cell_type": "markdown",
   "id": "ff82bd83",
   "metadata": {},
   "source": [
    "## Exercise 1: Filtering values (level of difficulty: 1)\n",
    "\n",
    "In a piece of code we have list pixel values. In the code the value of\n",
    "pixel is allowed to be anywhere from 0 in to (and including) 255. However,\n",
    "the list of pixel values are not validated and can have any integer value.\n",
    "\n",
    "1. Make some code that takes a list of pixel values and returns a list of\n",
    "   valid values.\n",
    "2. Make a list where all numbers are, but with the invalid values replaced\n",
    "   by the closest valid value (i.e. 0 for negative numbers and 255 for numbers\n",
    "   above 255)"
   ]
  },
  {
   "cell_type": "code",
   "execution_count": 2,
   "id": "2670fc63",
   "metadata": {},
   "outputs": [
    {
     "name": "stdout",
     "output_type": "stream",
     "text": [
      "[10, 8, 162, 52, 0, 255, 128]\n"
     ]
    }
   ],
   "source": [
    "# Solution block 1.1\n",
    "values = [10, -1, 300, 8, 162, 52, 0, 255, 128, -16, 256]\n",
    "my_list = []\n",
    "\n",
    "for i in values:\n",
    "    if i >= 0 and i <= 255:\n",
    "        my_list.append(i)\n",
    "print(my_list)"
   ]
  },
  {
   "cell_type": "code",
   "execution_count": 3,
   "id": "a4dd0055",
   "metadata": {},
   "outputs": [
    {
     "name": "stdout",
     "output_type": "stream",
     "text": [
      "[10, 0, 255, 8, 162, 52, 0, 255, 128, 0, 255]\n"
     ]
    }
   ],
   "source": [
    "# Solution block 1.2\n",
    "values = [10, -1, 300, 8, 162, 52, 0, 255, 128, -16, 256]\n",
    "\n",
    "for index, val in enumerate(values):\n",
    "    if val < 0:\n",
    "        values[index] = 0\n",
    "    elif val > 255:\n",
    "        values[index] = 255\n",
    "print(values)"
   ]
  },
  {
   "cell_type": "markdown",
   "id": "be78cb2a",
   "metadata": {},
   "source": [
    "## Exercise 2: Logarithms (level of difficulty: 2)\n",
    "\n",
    "The logarithm is how often you can divide a number by another number. In this\n",
    "exercise we are only interested in the integer part of the logarithm. So we estimate\n",
    "the logarithm by seeing how many times we can divide the number through the base\n",
    "before the result becomes 1.0 or smaller.\n",
    "\n",
    "Also you\n",
    "are only allowed to use basic operators such as\n",
    "`+`, `-`, `/` and control structures (so do **not** use the `log` function!).\n",
    "\n",
    "1. Make code that can calculate $ \\log_2 1024 $\n",
    "2. **Advanced**: Make a function (part of lecture 10) that can calculate any\n",
    "   logarithm $ \\log_{base} {x} $."
   ]
  },
  {
   "cell_type": "code",
   "execution_count": null,
   "id": "76a5510f",
   "metadata": {},
   "outputs": [],
   "source": [
    "# Solution block 2.1\n",
    "\n",
    "# Geen zin in dit\n",
    "number = 1024\n",
    "base = 2"
   ]
  },
  {
   "cell_type": "code",
   "execution_count": null,
   "id": "cb70123e",
   "metadata": {},
   "outputs": [],
   "source": [
    "# Solution block 2.3\n",
    "import numpy\n",
    "\n",
    "# Add your function logarithm here, with 2 arguments: the number, the base\n",
    "def logarithm(number, base):\n",
    "    return # Hier moet wat komen\n",
    "\n",
    "# Test the function\n",
    "print(logarithm(256, 2))\n",
    "print(logarithm(27, 3))"
   ]
  },
  {
   "cell_type": "code",
   "execution_count": null,
   "id": "349f6c8a",
   "metadata": {},
   "outputs": [],
   "source": []
  }
 ],
 "metadata": {
  "kernelspec": {
   "display_name": "base",
   "language": "python",
   "name": "python3"
  },
  "language_info": {
   "codemirror_mode": {
    "name": "ipython",
    "version": 3
   },
   "file_extension": ".py",
   "mimetype": "text/x-python",
   "name": "python",
   "nbconvert_exporter": "python",
   "pygments_lexer": "ipython3",
   "version": "3.8.8"
  },
  "vscode": {
   "interpreter": {
    "hash": "af0757bbd091a27d1b459aad72cb64fd0f2b1eac8726eb2184f3794de23b07aa"
   }
  }
 },
 "nbformat": 4,
 "nbformat_minor": 5
}
