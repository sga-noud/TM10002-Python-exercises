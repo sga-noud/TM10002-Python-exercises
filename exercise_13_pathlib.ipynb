{
 "cells": [
  {
   "cell_type": "markdown",
   "id": "349cbb0f",
   "metadata": {},
   "source": [
    "# 13 - Pathlib\n",
    "\n",
    "This notebook is a serie of exercises about the concept presented in [13 Pathlib].\n",
    "\n",
    "- Those exercises are not mendatory but it is strongly adviced to do them as programming is skill learnt by doing"
   ]
  },
  {
   "cell_type": "markdown",
   "id": "2db33eec",
   "metadata": {},
   "source": [
    "## List all files with a certain extension\n",
    "\n",
    "Write code that, for a given directory, lists all files in that directory that have the .csv extension. Exclude the directory name in the printing.\n",
    "\n",
    "Note that there are multiple solutions, either by checking files yourself, or using more advance functions in pathlib. Can you come up with multiple solutions?\n"
   ]
  },
  {
   "cell_type": "code",
   "execution_count": 18,
   "id": "ef2f3ba4",
   "metadata": {
    "tags": []
   },
   "outputs": [
    {
     "name": "stdout",
     "output_type": "stream",
     "text": [
      "Dit print de directory name, dat willen we niet\n",
      "Found item: data_13_pathlib\\aap.csv (<class 'pathlib.WindowsPath'>)\n",
      "Found item: data_13_pathlib\\noot.csv (<class 'pathlib.WindowsPath'>)\n",
      "Found item: data_13_pathlib\\a\\aap.csv (<class 'pathlib.WindowsPath'>)\n",
      "Found item: data_13_pathlib\\a\\noot.csv (<class 'pathlib.WindowsPath'>)\n",
      "Found item: data_13_pathlib\\c\\a.csv (<class 'pathlib.WindowsPath'>)\n",
      "\n",
      "Dit print alleen de file name, zonder tussenliggende mappen\n",
      "Found item: aap.csv (<class 'pathlib.WindowsPath'>)\n",
      "Found item: noot.csv (<class 'pathlib.WindowsPath'>)\n",
      "Found item: aap.csv (<class 'pathlib.WindowsPath'>)\n",
      "Found item: noot.csv (<class 'pathlib.WindowsPath'>)\n",
      "Found item: a.csv (<class 'pathlib.WindowsPath'>)\n",
      "\n",
      "Dit is beetje cheaten\n",
      "Found item: aap.csv (<class 'pathlib.WindowsPath'>)\n",
      "Found item: noot.csv (<class 'pathlib.WindowsPath'>)\n",
      "Found item: a\\aap.csv (<class 'pathlib.WindowsPath'>)\n",
      "Found item: a\\noot.csv (<class 'pathlib.WindowsPath'>)\n",
      "Found item: c\\a.csv (<class 'pathlib.WindowsPath'>)\n"
     ]
    }
   ],
   "source": [
    "from pathlib import Path\n",
    "\n",
    "extension = '.csv'\n",
    "directory = 'data_13_pathlib'  # Zorg dat dit klopt met de naam van je map\n",
    "target_dir = Path('.') / directory\n",
    "\n",
    "# **/ means search for all subdirectories (on any level)\n",
    "# *.csv means every file/directory which ends with .csv\n",
    "print(\"Dit print de directory name, dat willen we niet\")\n",
    "for item in target_dir.glob(f'**/*{extension}'):\n",
    "    print(f'Found item: {item} ({type(item)})')\n",
    "\n",
    "print()\n",
    "print(\"Dit print alleen de file name, zonder tussenliggende mappen\")\n",
    "for item in target_dir.glob(f'**/*{extension}'):\n",
    "    print(f'Found item: {item.name} ({type(item)})')\n",
    "\n",
    "print()\n",
    "print(\"Dit is beetje cheaten\")\n",
    "for item in target_dir.glob(f'**/*{extension}'):\n",
    "    full_name = str(item)\n",
    "    good_name = full_name.replace(f\"{directory}\\\\\", \"\")  # Verwijder directory name uit de print()\n",
    "    print(f'Found item: {good_name} ({type(item)})')"
   ]
  },
  {
   "cell_type": "markdown",
   "id": "449d4095",
   "metadata": {
    "lines_to_next_cell": 0
   },
   "source": [
    "## List the files that are in the directories that are in the target directory.\n",
    "\n",
    "Write code that may output:\n",
    "\n",
    "    a:\n",
    "      aap.csv\n",
    "      noot.csv\n",
    "    b:\n",
    "    c:\n",
    "      a.csv\n",
    "      a.txt\n",
    "\n"
   ]
  },
  {
   "cell_type": "code",
   "execution_count": 25,
   "id": "265e175e",
   "metadata": {},
   "outputs": [
    {
     "name": "stdout",
     "output_type": "stream",
     "text": [
      "a:\n",
      "  aap.csv\n",
      "  noot.csv\n",
      "b:\n",
      "c:\n",
      "  a.csv\n",
      "  a.txt\n"
     ]
    }
   ],
   "source": [
    "from pathlib import Path\n",
    "\n",
    "extension = '.csv'\n",
    "directory = 'data_13_pathlib'  # Zorg dat dit klopt met de naam van je map\n",
    "target_dir = Path('.') / directory\n",
    "\n",
    "# Loop door enkele mogelijke directory namen\n",
    "for item in ('a', 'b', 'c'):\n",
    "    print(f\"{item}:\")\n",
    "    dir_path = target_dir / item\n",
    "    # Als de directory bestaat...\n",
    "    if dir_path.is_dir():\n",
    "        # ... print alle dingen in die directory\n",
    "        for file in dir_path.glob('*'):\n",
    "            print(f\"  {file.name}\")"
   ]
  }
 ],
 "metadata": {
  "jupytext": {
   "cell_markers": "\"\"\""
  },
  "kernelspec": {
   "display_name": "base",
   "language": "python",
   "name": "python3"
  },
  "language_info": {
   "codemirror_mode": {
    "name": "ipython",
    "version": 3
   },
   "file_extension": ".py",
   "mimetype": "text/x-python",
   "name": "python",
   "nbconvert_exporter": "python",
   "pygments_lexer": "ipython3",
   "version": "3.8.8"
  },
  "vscode": {
   "interpreter": {
    "hash": "af0757bbd091a27d1b459aad72cb64fd0f2b1eac8726eb2184f3794de23b07aa"
   }
  }
 },
 "nbformat": 4,
 "nbformat_minor": 5
}
