{
 "cells": [
  {
   "cell_type": "markdown",
   "id": "349cbb0f",
   "metadata": {},
   "source": [
    "# 13 - Pathlib\n",
    "\n",
    "This notebook is a serie of exercises about the concept presented in [13 Pathlib].\n",
    "\n",
    "- Those exercises are not mendatory but it is strongly adviced to do them as programming is skill learnt by doing"
   ]
  },
  {
   "cell_type": "markdown",
   "id": "2db33eec",
   "metadata": {},
   "source": [
    "## List all files with a certain extension\n",
    "\n",
    "Write code that, for a given directory, lists all files in that directory that have the .csv extension. Exclude the directory name in the printing.\n",
    "\n",
    "Note that there are multiple solutions, either by checking files yourself, or using more advance functions in pathlib. Can you come up with multiple solutions?\n"
   ]
  },
  {
   "cell_type": "code",
   "execution_count": null,
   "id": "ef2f3ba4",
   "metadata": {
    "tags": []
   },
   "outputs": [],
   "source": [
    "from pathlib import Path\n",
    "\n",
    "extension = '.csv'\n",
    "target_dir = Path('.') / 'data_13'"
   ]
  },
  {
   "cell_type": "markdown",
   "id": "449d4095",
   "metadata": {
    "lines_to_next_cell": 0
   },
   "source": [
    "## List the files that are in the directories that are in the target directory.\n",
    "\n",
    "Write code that may output:\n",
    "\n",
    "    a:\n",
    "      aap.csv\n",
    "      noot.csv\n",
    "    b:\n",
    "    c:\n",
    "      a.csv\n",
    "      a.txt\n",
    "\n"
   ]
  },
  {
   "cell_type": "code",
   "execution_count": null,
   "id": "265e175e",
   "metadata": {},
   "outputs": [],
   "source": [
    "from pathlib import Path\n",
    "\n",
    "extension = '.csv'\n",
    "target_dir = Path('.') / 'data_13'"
   ]
  }
 ],
 "metadata": {
  "jupytext": {
   "cell_markers": "\"\"\""
  },
  "kernelspec": {
   "display_name": "Python 3",
   "language": "python",
   "name": "python3"
  }
 },
 "nbformat": 4,
 "nbformat_minor": 5
}
