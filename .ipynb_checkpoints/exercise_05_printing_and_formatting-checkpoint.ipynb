{
 "cells": [
  {
   "cell_type": "markdown",
   "id": "cca1113e",
   "metadata": {},
   "source": [
    "# 05 - Printing and Formatting\n",
    "\n",
    "This notebook is a serie of exercises about the concept presented in [05 Printing and Formatting](TODO) and made by [Robin Camarasa](mailto:r.camarasa@erasmusmc.nl).\n",
    "\n",
    "- Those exercises are not mendatory but it is strongly adviced to do them as programming is skill learnt by doing\n",
    "- Exercise have an associated difficulty level: 1 means that only an understanding of the course is sufficient to complete the exercise, 2 means that some research is needed to complete the exercise\n",
    "\n",
    "## Appendix to the course\n",
    "\n",
    "For the formatting of numbers in addition to the allocated space and the and the significance, you can specify the notation (classic `f` or scientific `e`)."
   ]
  },
  {
   "cell_type": "code",
   "execution_count": 1,
   "id": "fcc446ec",
   "metadata": {},
   "outputs": [
    {
     "name": "stdout",
     "output_type": "stream",
     "text": [
      " 10.00\n",
      "1.00e+01\n",
      "  0.01\n",
      "1.00e-02\n"
     ]
    }
   ],
   "source": [
    "a = 10.0\n",
    "b = 0.01\n",
    "\n",
    "print(f'{a:6.2f}')\n",
    "print(f'{a:6.2e}')\n",
    "print(f'{b:6.2f}')\n",
    "print(f'{b:6.2e}')"
   ]
  },
  {
   "cell_type": "markdown",
   "id": "6d8d7644",
   "metadata": {},
   "source": [
    "## Exercise 1\n",
    "\n",
    "A bank hired you as a programmer to write a program that output the amount of each of the transaction for a given account for a given day. Here is an example of the output of the program:\n",
    "```\n",
    "transactions: -2.98, 17.3334, 256.25, 80.168, -27.775, 32.28, 45.557\n",
    "```\n",
    "\n",
    "1. (level of difficulty: 1) Although the employee love the new functionnalities of your program that is far superior to their previous system based on excel sheets, they find the transactions hard to read and would prefer the following format. Implement with print statements the request of the employees"
   ]
  },
  {
   "cell_type": "markdown",
   "id": "c28fda4d",
   "metadata": {},
   "source": [
    "```\n",
    "|transactions|\n",
    "|------------|\n",
    "| -2.99      |\n",
    "| 17.33      |\n",
    "| 256.25     |\n",
    "| 80.17      |\n",
    "| -27.77     |\n",
    "| 32.28      |\n",
    "| 0.01       |\n",
    "\n",
    "```\n",
    "\n",
    "2. (level of difficulty: 2, it requires elements not covered in the course yet) After proposing your mock-up of the printed table, the employees of the bank hired you to implement the functionnality in production. Unfortunately your initial solution was not scalable and only work on the given example. Generalize the code for it to work on any list of transactions."
   ]
  },
  {
   "cell_type": "code",
   "execution_count": 5,
   "id": "07ce772a",
   "metadata": {},
   "outputs": [
    {
     "name": "stdout",
     "output_type": "stream",
     "text": [
      "|transactions|\n",
      "|------------|\n",
      "|       -2.99|\n",
      "|       17.33|\n",
      "|      256.25|\n",
      "|       80.17|\n",
      "|      -27.77|\n",
      "|       32.28|\n",
      "|        0.01|\n"
     ]
    }
   ],
   "source": [
    "# Solution block 1.1\n",
    "transactions = [-2.9888, 17.3334, 256.25, 80.168, -27.775, 32.28, 0.01]\n",
    "\n",
    "print(\"|transactions|\")\n",
    "print(\"|------------|\")\n",
    "\n",
    "for i in transactions:\n",
    "    print(f\"|{i:12.2f}|\")"
   ]
  },
  {
   "cell_type": "code",
   "execution_count": 6,
   "id": "e407cf98",
   "metadata": {},
   "outputs": [
    {
     "name": "stdout",
     "output_type": "stream",
     "text": [
      "|transactions|\n",
      "|------------|\n",
      "|       -2.99|\n",
      "|       17.33|\n",
      "|      256.25|\n",
      "|       80.17|\n",
      "|      -27.77|\n",
      "|       32.28|\n",
      "|        0.01|\n"
     ]
    }
   ],
   "source": [
    "# Solution block 1.2 (Come up with your own example to make sure that you script work in all kind of scenarii)\n",
    "# Had ik bij 1.1 al gedaan, dus copy paste:\n",
    "transactions = [-2.9888, 17.3334, 256.25, 80.168, -27.775, 32.28, 0.01]\n",
    "\n",
    "print(\"|transactions|\")\n",
    "print(\"|------------|\")\n",
    "\n",
    "for i in transactions:\n",
    "    print(f\"|{i:12.2f}|\")"
   ]
  },
  {
   "cell_type": "code",
   "execution_count": null,
   "id": "679a9304",
   "metadata": {},
   "outputs": [],
   "source": []
  }
 ],
 "metadata": {
  "kernelspec": {
   "display_name": "Python 3",
   "language": "python",
   "name": "python3"
  },
  "language_info": {
   "codemirror_mode": {
    "name": "ipython",
    "version": 3
   },
   "file_extension": ".py",
   "mimetype": "text/x-python",
   "name": "python",
   "nbconvert_exporter": "python",
   "pygments_lexer": "ipython3",
   "version": "3.8.8"
  }
 },
 "nbformat": 4,
 "nbformat_minor": 5
}
